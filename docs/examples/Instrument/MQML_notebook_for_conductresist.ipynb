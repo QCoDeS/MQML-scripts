{
 "cells": [
  {
   "cell_type": "markdown",
   "metadata": {},
   "source": [
    "# MQML notebook for conductresist"
   ]
  },
  {
   "cell_type": "markdown",
   "metadata": {},
   "source": [
    "In this notebook, we want to show how to setup and use the module conductresist.py. This module has an instrument called ConductResist, which holds and calculates parameters related to differential conductance and resistance."
   ]
  },
  {
   "cell_type": "markdown",
   "metadata": {},
   "source": [
    "### Basic imports and logging"
   ]
  },
  {
   "cell_type": "code",
   "execution_count": 1,
   "metadata": {
    "scrolled": true
   },
   "outputs": [
    {
     "name": "stdout",
     "output_type": "stream",
     "text": [
      "Logging hadn't been started.\n",
      "Activating auto-logging. Current session state plus future input saved.\n",
      "Filename       : C:\\Users\\a-fbonabi\\.qcodes\\logs\\command_history.log\n",
      "Mode           : append\n",
      "Output logging : True\n",
      "Raw input log  : False\n",
      "Timestamping   : True\n",
      "State          : active\n",
      "Qcodes Logfile : C:\\Users\\a-fbonabi\\.qcodes\\logs\\210115-42412-qcodes.log\n"
     ]
    }
   ],
   "source": [
    "from qcodes.station import Station\n",
    "from qcodes import initialise_or_create_database_at\n",
    "from qcodes.logger import start_all_logging\n",
    "from mqml.instrument.conductresist import ConductResist\n",
    "from qcodes.instrument.parameter import Parameter\n",
    "import time\n",
    "import os\n",
    "start_all_logging()"
   ]
  },
  {
   "cell_type": "markdown",
   "metadata": {},
   "source": [
    "### Creating qcodes station: "
   ]
  },
  {
   "cell_type": "markdown",
   "metadata": {},
   "source": [
    "For the purpose of this notebook, we create an empty qcodes station object to hold our upcoming ConductResist instruments. In a real experiment, we likely need to load a station yaml file into our created station object, which this yaml file includes all physical instruments needed for the experiment. "
   ]
  },
  {
   "cell_type": "code",
   "execution_count": 2,
   "metadata": {},
   "outputs": [],
   "source": [
    "station = Station()\n",
    "\n",
    "# If the station.yaml file exists, load the yaml file to the station instead of the above:\n",
    "# station = Station(config_file='[full path to the station]/station.yaml')"
   ]
  },
  {
   "cell_type": "markdown",
   "metadata": {},
   "source": [
    "Let's look at our station snapshot:"
   ]
  },
  {
   "cell_type": "code",
   "execution_count": 3,
   "metadata": {},
   "outputs": [
    {
     "data": {
      "text/plain": [
       "{'instruments': {}, 'parameters': {}, 'components': {}, 'config': None}"
      ]
     },
     "execution_count": 3,
     "metadata": {},
     "output_type": "execute_result"
    }
   ],
   "source": [
    "station.snapshot()"
   ]
  },
  {
   "cell_type": "markdown",
   "metadata": {},
   "source": [
    "### Setting up ConductResist"
   ]
  },
  {
   "cell_type": "markdown",
   "metadata": {},
   "source": [
    "ConductResist calculates differential conductance and resistance using voltag and amplitude inputs of two lock-in amplifiers. These inputs are qcodes Parameters. Since we do not have access to lock-in amplifiers in this notebook, we create qcodes Parameters to run the notebook. We need 3 parameters to instantiate this class (we create these parameters with initial values to be able to get these vales when needed):"
   ]
  },
  {
   "cell_type": "code",
   "execution_count": 4,
   "metadata": {},
   "outputs": [],
   "source": [
    "lockin1_X = Parameter('lockin1_X', set_cmd=None, unit='V', initial_value=1)\n",
    "lockin1_amp = Parameter('lockin1_amp', set_cmd=None, unit='V', initial_value=2)\n",
    "lockin2_X = Parameter('lockin2_X', set_cmd=None, unit='V', initial_value=3)\n",
    "\n",
    "# In a real experiment, we may follow something like:\n",
    "# lockin1 = station.load_instrument('the name of the first lock-in in the station.yaml, e.g., lockin1')\n",
    "# lockin2 = station.load_instrument('the name of the second lock-in in the station.yaml, e.g., lockin2')\n",
    "# lockin1_X = lockin1.X\n",
    "# lockin1_amp = lockin1.amplitude\n",
    "# lockin2_X = lockin2.X"
   ]
  },
  {
   "cell_type": "markdown",
   "metadata": {},
   "source": [
    "Now, we instantiate ConductResist as below:"
   ]
  },
  {
   "cell_type": "code",
   "execution_count": 5,
   "metadata": {},
   "outputs": [],
   "source": [
    "lockin_1_2 = ConductResist('lockin_1_2', lockin1_volt=lockin1_X, lockin1_amp=lockin1_amp, lockin2_volt=lockin2_X)"
   ]
  },
  {
   "cell_type": "markdown",
   "metadata": {},
   "source": [
    "Then, it is possible to instantiate as many ConductResist instance as you want, if you need more than one lockin pair in your experimental setup.\n",
    "\n",
    "In order to retrive conductance and resistance out of our created lockin_1_2, we need to set amplification and division parameters in this created lockin_1_2 instance, otherwise we will get TypeError of not setting them:"
   ]
  },
  {
   "cell_type": "code",
   "execution_count": 6,
   "metadata": {},
   "outputs": [
    {
     "ename": "TypeError",
     "evalue": "('Amplification and/or voltage divisions are not set. Set them and try again.', 'getting lockin_1_2_diff_conductance_fpm')",
     "output_type": "error",
     "traceback": [
      "\u001b[1;31m---------------------------------------------------------------------------\u001b[0m",
      "\u001b[1;31mTypeError\u001b[0m                                 Traceback (most recent call last)",
      "\u001b[1;32mc:\\users\\a-fbonabi\\mqml-scripts\\mqml\\instrument\\conductresist.py\u001b[0m in \u001b[0;36m_desoverh_fpm\u001b[1;34m(self)\u001b[0m\n\u001b[0;32m     74\u001b[0m         \u001b[1;32mtry\u001b[0m\u001b[1;33m:\u001b[0m\u001b[1;33m\u001b[0m\u001b[1;33m\u001b[0m\u001b[0m\n\u001b[1;32m---> 75\u001b[1;33m             \u001b[1;32mreturn\u001b[0m \u001b[1;33m(\u001b[0m\u001b[0mself\u001b[0m\u001b[1;33m.\u001b[0m\u001b[0m_lockin1_volt\u001b[0m\u001b[1;33m(\u001b[0m\u001b[1;33m)\u001b[0m\u001b[1;33m/\u001b[0m\u001b[0mself\u001b[0m\u001b[1;33m.\u001b[0m\u001b[0mGIamp\u001b[0m\u001b[1;33m(\u001b[0m\u001b[1;33m)\u001b[0m\u001b[1;33m)\u001b[0m\u001b[1;33m/\u001b[0m\u001b[1;33m(\u001b[0m\u001b[0mself\u001b[0m\u001b[1;33m.\u001b[0m\u001b[0m_lockin2_volt\u001b[0m\u001b[1;33m(\u001b[0m\u001b[1;33m)\u001b[0m\u001b[1;33m/\u001b[0m\u001b[0mself\u001b[0m\u001b[1;33m.\u001b[0m\u001b[0mGVamp\u001b[0m\u001b[1;33m(\u001b[0m\u001b[1;33m)\u001b[0m\u001b[1;33m)\u001b[0m\u001b[1;33m/\u001b[0m\u001b[0mG_0\u001b[0m\u001b[1;33m\u001b[0m\u001b[1;33m\u001b[0m\u001b[0m\n\u001b[0m\u001b[0;32m     76\u001b[0m         \u001b[1;32mexcept\u001b[0m \u001b[0mZeroDivisionError\u001b[0m\u001b[1;33m:\u001b[0m\u001b[1;33m\u001b[0m\u001b[1;33m\u001b[0m\u001b[0m\n",
      "\u001b[1;31mTypeError\u001b[0m: unsupported operand type(s) for /: 'int' and 'NoneType'",
      "\nDuring handling of the above exception, another exception occurred:\n",
      "\u001b[1;31mTypeError\u001b[0m                                 Traceback (most recent call last)",
      "\u001b[1;32m<ipython-input-6-8ff344f28294>\u001b[0m in \u001b[0;36m<module>\u001b[1;34m\u001b[0m\n\u001b[1;32m----> 1\u001b[1;33m \u001b[0mlockin_1_2\u001b[0m\u001b[1;33m.\u001b[0m\u001b[0mdiff_conductance_fpm\u001b[0m\u001b[1;33m(\u001b[0m\u001b[1;33m)\u001b[0m\u001b[1;33m\u001b[0m\u001b[1;33m\u001b[0m\u001b[0m\n\u001b[0m",
      "\u001b[1;32mc:\\users\\a-fbonabi\\anaconda3\\envs\\test_mqml\\lib\\site-packages\\qcodes\\instrument\\parameter.py\u001b[0m in \u001b[0;36m__call__\u001b[1;34m(self, *args, **kwargs)\u001b[0m\n\u001b[0;32m    397\u001b[0m         \u001b[1;32mif\u001b[0m \u001b[0mlen\u001b[0m\u001b[1;33m(\u001b[0m\u001b[0margs\u001b[0m\u001b[1;33m)\u001b[0m \u001b[1;33m==\u001b[0m \u001b[1;36m0\u001b[0m\u001b[1;33m:\u001b[0m\u001b[1;33m\u001b[0m\u001b[1;33m\u001b[0m\u001b[0m\n\u001b[0;32m    398\u001b[0m             \u001b[1;32mif\u001b[0m \u001b[0mself\u001b[0m\u001b[1;33m.\u001b[0m\u001b[0mgettable\u001b[0m\u001b[1;33m:\u001b[0m\u001b[1;33m\u001b[0m\u001b[1;33m\u001b[0m\u001b[0m\n\u001b[1;32m--> 399\u001b[1;33m                 \u001b[1;32mreturn\u001b[0m \u001b[0mself\u001b[0m\u001b[1;33m.\u001b[0m\u001b[0mget\u001b[0m\u001b[1;33m(\u001b[0m\u001b[1;33m)\u001b[0m\u001b[1;33m\u001b[0m\u001b[1;33m\u001b[0m\u001b[0m\n\u001b[0m\u001b[0;32m    400\u001b[0m             \u001b[1;32melse\u001b[0m\u001b[1;33m:\u001b[0m\u001b[1;33m\u001b[0m\u001b[1;33m\u001b[0m\u001b[0m\n\u001b[0;32m    401\u001b[0m                 raise NotImplementedError('no get cmd found in' +\n",
      "\u001b[1;32mc:\\users\\a-fbonabi\\anaconda3\\envs\\test_mqml\\lib\\site-packages\\qcodes\\instrument\\parameter.py\u001b[0m in \u001b[0;36mget_wrapper\u001b[1;34m(*args, **kwargs)\u001b[0m\n\u001b[0;32m    590\u001b[0m             \u001b[1;32mexcept\u001b[0m \u001b[0mException\u001b[0m \u001b[1;32mas\u001b[0m \u001b[0me\u001b[0m\u001b[1;33m:\u001b[0m\u001b[1;33m\u001b[0m\u001b[1;33m\u001b[0m\u001b[0m\n\u001b[0;32m    591\u001b[0m                 \u001b[0me\u001b[0m\u001b[1;33m.\u001b[0m\u001b[0margs\u001b[0m \u001b[1;33m=\u001b[0m \u001b[0me\u001b[0m\u001b[1;33m.\u001b[0m\u001b[0margs\u001b[0m \u001b[1;33m+\u001b[0m \u001b[1;33m(\u001b[0m\u001b[1;34mf'getting {self}'\u001b[0m\u001b[1;33m,\u001b[0m\u001b[1;33m)\u001b[0m\u001b[1;33m\u001b[0m\u001b[1;33m\u001b[0m\u001b[0m\n\u001b[1;32m--> 592\u001b[1;33m                 \u001b[1;32mraise\u001b[0m \u001b[0me\u001b[0m\u001b[1;33m\u001b[0m\u001b[1;33m\u001b[0m\u001b[0m\n\u001b[0m\u001b[0;32m    593\u001b[0m \u001b[1;33m\u001b[0m\u001b[0m\n\u001b[0;32m    594\u001b[0m         \u001b[1;32mreturn\u001b[0m \u001b[0mget_wrapper\u001b[0m\u001b[1;33m\u001b[0m\u001b[1;33m\u001b[0m\u001b[0m\n",
      "\u001b[1;32mc:\\users\\a-fbonabi\\anaconda3\\envs\\test_mqml\\lib\\site-packages\\qcodes\\instrument\\parameter.py\u001b[0m in \u001b[0;36mget_wrapper\u001b[1;34m(*args, **kwargs)\u001b[0m\n\u001b[0;32m    577\u001b[0m             \u001b[1;32mtry\u001b[0m\u001b[1;33m:\u001b[0m\u001b[1;33m\u001b[0m\u001b[1;33m\u001b[0m\u001b[0m\n\u001b[0;32m    578\u001b[0m                 \u001b[1;31m# There might be cases where a .get also has args/kwargs\u001b[0m\u001b[1;33m\u001b[0m\u001b[1;33m\u001b[0m\u001b[1;33m\u001b[0m\u001b[0m\n\u001b[1;32m--> 579\u001b[1;33m                 \u001b[0mraw_value\u001b[0m \u001b[1;33m=\u001b[0m \u001b[0mget_function\u001b[0m\u001b[1;33m(\u001b[0m\u001b[1;33m*\u001b[0m\u001b[0margs\u001b[0m\u001b[1;33m,\u001b[0m \u001b[1;33m**\u001b[0m\u001b[0mkwargs\u001b[0m\u001b[1;33m)\u001b[0m\u001b[1;33m\u001b[0m\u001b[1;33m\u001b[0m\u001b[0m\n\u001b[0m\u001b[0;32m    580\u001b[0m \u001b[1;33m\u001b[0m\u001b[0m\n\u001b[0;32m    581\u001b[0m                 \u001b[0mvalue\u001b[0m \u001b[1;33m=\u001b[0m \u001b[0mself\u001b[0m\u001b[1;33m.\u001b[0m\u001b[0m_from_raw_value_to_value\u001b[0m\u001b[1;33m(\u001b[0m\u001b[0mraw_value\u001b[0m\u001b[1;33m)\u001b[0m\u001b[1;33m\u001b[0m\u001b[1;33m\u001b[0m\u001b[0m\n",
      "\u001b[1;32mc:\\users\\a-fbonabi\\anaconda3\\envs\\test_mqml\\lib\\site-packages\\qcodes\\utils\\command.py\u001b[0m in \u001b[0;36m__call__\u001b[1;34m(self, *args)\u001b[0m\n\u001b[0;32m    176\u001b[0m             raise TypeError(\n\u001b[0;32m    177\u001b[0m                 f'command takes exactly {self.arg_count} args')\n\u001b[1;32m--> 178\u001b[1;33m         \u001b[1;32mreturn\u001b[0m \u001b[0mself\u001b[0m\u001b[1;33m.\u001b[0m\u001b[0mexec_function\u001b[0m\u001b[1;33m(\u001b[0m\u001b[1;33m*\u001b[0m\u001b[0margs\u001b[0m\u001b[1;33m)\u001b[0m\u001b[1;33m\u001b[0m\u001b[1;33m\u001b[0m\u001b[0m\n\u001b[0m",
      "\u001b[1;32mc:\\users\\a-fbonabi\\mqml-scripts\\mqml\\instrument\\conductresist.py\u001b[0m in \u001b[0;36m_desoverh_fpm\u001b[1;34m(self)\u001b[0m\n\u001b[0;32m     78\u001b[0m             \u001b[1;32mreturn\u001b[0m \u001b[0mnp\u001b[0m\u001b[1;33m.\u001b[0m\u001b[0mnan\u001b[0m\u001b[1;33m\u001b[0m\u001b[1;33m\u001b[0m\u001b[0m\n\u001b[0;32m     79\u001b[0m         \u001b[1;32mexcept\u001b[0m \u001b[0mTypeError\u001b[0m\u001b[1;33m:\u001b[0m\u001b[1;33m\u001b[0m\u001b[1;33m\u001b[0m\u001b[0m\n\u001b[1;32m---> 80\u001b[1;33m             \u001b[1;32mraise\u001b[0m \u001b[0mTypeError\u001b[0m\u001b[1;33m(\u001b[0m\u001b[1;34m'Amplification and/or voltage divisions are not set. Set them and try again.'\u001b[0m\u001b[1;33m)\u001b[0m\u001b[1;33m\u001b[0m\u001b[1;33m\u001b[0m\u001b[0m\n\u001b[0m\u001b[0;32m     81\u001b[0m \u001b[1;33m\u001b[0m\u001b[0m\n\u001b[0;32m     82\u001b[0m     \u001b[1;32mdef\u001b[0m \u001b[0m_desoverh_tpm\u001b[0m\u001b[1;33m(\u001b[0m\u001b[0mself\u001b[0m\u001b[1;33m)\u001b[0m \u001b[1;33m->\u001b[0m \u001b[0mfloat\u001b[0m\u001b[1;33m:\u001b[0m\u001b[1;33m\u001b[0m\u001b[1;33m\u001b[0m\u001b[0m\n",
      "\u001b[1;31mTypeError\u001b[0m: ('Amplification and/or voltage divisions are not set. Set them and try again.', 'getting lockin_1_2_diff_conductance_fpm')"
     ]
    }
   ],
   "source": [
    "lockin_1_2.diff_conductance_fpm()"
   ]
  },
  {
   "cell_type": "markdown",
   "metadata": {},
   "source": [
    "Now, we set these parameters. Note that ACdive and DCdive are defined with initial values of 1e-4 and 1e-2, respectively. Thus, we can leave defining these two parameters, if we want to use their initial values:"
   ]
  },
  {
   "cell_type": "code",
   "execution_count": 7,
   "metadata": {},
   "outputs": [],
   "source": [
    "lockin_1_2.GIamp(1e7) # Current amplification\n",
    "lockin_1_2.GVamp(100) # Voltage amplification"
   ]
  },
  {
   "cell_type": "markdown",
   "metadata": {},
   "source": [
    "Now, we can get the values of conductance and resistance:"
   ]
  },
  {
   "cell_type": "code",
   "execution_count": 8,
   "metadata": {},
   "outputs": [
    {
     "data": {
      "text/plain": [
       "0.04302134575919792"
      ]
     },
     "execution_count": 8,
     "metadata": {},
     "output_type": "execute_result"
    }
   ],
   "source": [
    "lockin_1_2.diff_conductance_fpm()"
   ]
  },
  {
   "cell_type": "code",
   "execution_count": 9,
   "metadata": {},
   "outputs": [
    {
     "data": {
      "text/plain": [
       "6.453201863879687"
      ]
     },
     "execution_count": 9,
     "metadata": {},
     "output_type": "execute_result"
    }
   ],
   "source": [
    "lockin_1_2.conductance_tpm()"
   ]
  },
  {
   "cell_type": "code",
   "execution_count": 10,
   "metadata": {},
   "outputs": [
    {
     "data": {
      "text/plain": [
       "300000.0"
      ]
     },
     "execution_count": 10,
     "metadata": {},
     "output_type": "execute_result"
    }
   ],
   "source": [
    "lockin_1_2.resistance_fpm()"
   ]
  },
  {
   "cell_type": "markdown",
   "metadata": {},
   "source": [
    "We can add the created lockin_1_2 to our station:"
   ]
  },
  {
   "cell_type": "code",
   "execution_count": 11,
   "metadata": {},
   "outputs": [
    {
     "data": {
      "text/plain": [
       "'lockin_1_2'"
      ]
     },
     "execution_count": 11,
     "metadata": {},
     "output_type": "execute_result"
    }
   ],
   "source": [
    "station.add_component(lockin_1_2)"
   ]
  },
  {
   "cell_type": "markdown",
   "metadata": {},
   "source": [
    "The snapshot of the station should show our lockin_1_2 instrument and its parameters"
   ]
  },
  {
   "cell_type": "code",
   "execution_count": 12,
   "metadata": {},
   "outputs": [
    {
     "data": {
      "text/plain": [
       "{'instruments': {'lockin_1_2': {'functions': {},\n",
       "   'submodules': {},\n",
       "   '__class__': 'mqml.instrument.conductresist.ConductResist',\n",
       "   'parameters': {'IDN': {'__class__': 'qcodes.instrument.parameter.Parameter',\n",
       "     'full_name': 'lockin_1_2_IDN',\n",
       "     'value': {'vendor': None,\n",
       "      'model': 'lockin_1_2',\n",
       "      'serial': None,\n",
       "      'firmware': None},\n",
       "     'raw_value': {'vendor': None,\n",
       "      'model': 'lockin_1_2',\n",
       "      'serial': None,\n",
       "      'firmware': None},\n",
       "     'ts': '2021-01-15 12:51:24',\n",
       "     'post_delay': 0,\n",
       "     'instrument': 'mqml.instrument.conductresist.ConductResist',\n",
       "     'instrument_name': 'lockin_1_2',\n",
       "     'unit': '',\n",
       "     'label': 'IDN',\n",
       "     'name': 'IDN',\n",
       "     'inter_delay': 0,\n",
       "     'vals': '<Anything>'},\n",
       "    'GIamp': {'__class__': 'qcodes.instrument.parameter.Parameter',\n",
       "     'full_name': 'lockin_1_2_GIamp',\n",
       "     'value': 10000000.0,\n",
       "     'raw_value': 10000000.0,\n",
       "     'ts': '2021-01-15 12:51:24',\n",
       "     'post_delay': 0,\n",
       "     'instrument': 'mqml.instrument.conductresist.ConductResist',\n",
       "     'instrument_name': 'lockin_1_2',\n",
       "     'unit': '',\n",
       "     'label': 'Current Amplification',\n",
       "     'name': 'GIamp',\n",
       "     'inter_delay': 0},\n",
       "    'GVamp': {'__class__': 'qcodes.instrument.parameter.Parameter',\n",
       "     'full_name': 'lockin_1_2_GVamp',\n",
       "     'value': 100,\n",
       "     'raw_value': 100,\n",
       "     'ts': '2021-01-15 12:51:24',\n",
       "     'post_delay': 0,\n",
       "     'instrument': 'mqml.instrument.conductresist.ConductResist',\n",
       "     'instrument_name': 'lockin_1_2',\n",
       "     'unit': '',\n",
       "     'label': 'Voltage Amplification',\n",
       "     'name': 'GVamp',\n",
       "     'inter_delay': 0},\n",
       "    'ACdiv': {'__class__': 'qcodes.instrument.parameter.Parameter',\n",
       "     'full_name': 'lockin_1_2_ACdiv',\n",
       "     'value': 0.0001,\n",
       "     'raw_value': 0.0001,\n",
       "     'ts': '2021-01-15 12:51:24',\n",
       "     'post_delay': 0,\n",
       "     'instrument': 'mqml.instrument.conductresist.ConductResist',\n",
       "     'instrument_name': 'lockin_1_2',\n",
       "     'unit': '',\n",
       "     'label': 'AC Division',\n",
       "     'name': 'ACdiv',\n",
       "     'inter_delay': 0},\n",
       "    'DCdiv': {'__class__': 'qcodes.instrument.parameter.Parameter',\n",
       "     'full_name': 'lockin_1_2_DCdiv',\n",
       "     'value': 0.01,\n",
       "     'raw_value': 0.01,\n",
       "     'ts': '2021-01-15 12:51:24',\n",
       "     'post_delay': 0,\n",
       "     'instrument': 'mqml.instrument.conductresist.ConductResist',\n",
       "     'instrument_name': 'lockin_1_2',\n",
       "     'unit': '',\n",
       "     'label': 'DC Division',\n",
       "     'name': 'DCdiv',\n",
       "     'inter_delay': 0},\n",
       "    'diff_conductance_fpm': {'__class__': 'qcodes.instrument.parameter.Parameter',\n",
       "     'full_name': 'lockin_1_2_diff_conductance_fpm',\n",
       "     'value': 0.04302134575919792,\n",
       "     'raw_value': 0.04302134575919792,\n",
       "     'ts': '2021-01-15 12:51:24',\n",
       "     'post_delay': 0,\n",
       "     'instrument': 'mqml.instrument.conductresist.ConductResist',\n",
       "     'instrument_name': 'lockin_1_2',\n",
       "     'unit': '2e^2/h',\n",
       "     'label': 'dI/dV',\n",
       "     'name': 'diff_conductance_fpm',\n",
       "     'inter_delay': 0},\n",
       "    'conductance_tpm': {'__class__': 'qcodes.instrument.parameter.Parameter',\n",
       "     'full_name': 'lockin_1_2_conductance_tpm',\n",
       "     'value': 6.453201863879687,\n",
       "     'raw_value': 6.453201863879687,\n",
       "     'ts': '2021-01-15 12:51:24',\n",
       "     'post_delay': 0,\n",
       "     'instrument': 'mqml.instrument.conductresist.ConductResist',\n",
       "     'instrument_name': 'lockin_1_2',\n",
       "     'unit': '2e^2/h',\n",
       "     'label': 'I/V',\n",
       "     'name': 'conductance_tpm',\n",
       "     'inter_delay': 0},\n",
       "    'resistance_fpm': {'__class__': 'qcodes.instrument.parameter.Parameter',\n",
       "     'full_name': 'lockin_1_2_resistance_fpm',\n",
       "     'value': 300000.0,\n",
       "     'raw_value': 300000.0,\n",
       "     'ts': '2021-01-15 12:51:24',\n",
       "     'post_delay': 0,\n",
       "     'instrument': 'mqml.instrument.conductresist.ConductResist',\n",
       "     'instrument_name': 'lockin_1_2',\n",
       "     'unit': 'Ohm',\n",
       "     'label': 'R',\n",
       "     'name': 'resistance_fpm',\n",
       "     'inter_delay': 0}},\n",
       "   'name': 'lockin_1_2'}},\n",
       " 'parameters': {},\n",
       " 'components': {},\n",
       " 'config': None}"
      ]
     },
     "execution_count": 12,
     "metadata": {},
     "output_type": "execute_result"
    }
   ],
   "source": [
    "station.snapshot()"
   ]
  },
  {
   "cell_type": "markdown",
   "metadata": {},
   "source": [
    "Let's examine what happens if the current value of an argument in an instance of ConductResist is zero (in this case, lockin3_amp):"
   ]
  },
  {
   "cell_type": "code",
   "execution_count": 13,
   "metadata": {},
   "outputs": [],
   "source": [
    "lockin3_X = Parameter('lockin1_X', set_cmd=None, unit='V', initial_value=1)\n",
    "lockin3_amp = Parameter('lockin1_amp', set_cmd=None, unit='V', initial_value=0)\n",
    "lockin4_X = Parameter('lockin2_X', set_cmd=None, unit='V', initial_value=3)"
   ]
  },
  {
   "cell_type": "code",
   "execution_count": 14,
   "metadata": {},
   "outputs": [],
   "source": [
    "lockin_3_4 = ConductResist('lockin_3_4', lockin1_volt=lockin3_X, lockin1_amp=lockin3_amp, lockin2_volt=lockin4_X)"
   ]
  },
  {
   "cell_type": "code",
   "execution_count": 15,
   "metadata": {},
   "outputs": [],
   "source": [
    "lockin_3_4.GIamp(1e7) # Current amplification\n",
    "lockin_3_4.GVamp(100) # Voltage amplification"
   ]
  },
  {
   "cell_type": "code",
   "execution_count": 16,
   "metadata": {},
   "outputs": [
    {
     "data": {
      "text/plain": [
       "0.04302134575919792"
      ]
     },
     "execution_count": 16,
     "metadata": {},
     "output_type": "execute_result"
    }
   ],
   "source": [
    "lockin_3_4.diff_conductance_fpm()"
   ]
  },
  {
   "cell_type": "code",
   "execution_count": 17,
   "metadata": {},
   "outputs": [
    {
     "name": "stderr",
     "output_type": "stream",
     "text": [
      "2021-01-15 12:51:28,797 ¦ py.warnings ¦ WARNING ¦ warnings ¦ _showwarnmsg ¦ 110 ¦ c:\\users\\a-fbonabi\\mqml-scripts\\mqml\\instrument\\conductresist.py:86: UserWarning: The denominator is zero, returning NaN\n",
      "  warnings.warn('The denominator is zero, returning NaN')\n",
      "\n"
     ]
    },
    {
     "data": {
      "text/plain": [
       "nan"
      ]
     },
     "execution_count": 17,
     "metadata": {},
     "output_type": "execute_result"
    }
   ],
   "source": [
    "lockin_3_4.conductance_tpm()"
   ]
  },
  {
   "cell_type": "code",
   "execution_count": 18,
   "metadata": {},
   "outputs": [
    {
     "data": {
      "text/plain": [
       "300000.0"
      ]
     },
     "execution_count": 18,
     "metadata": {},
     "output_type": "execute_result"
    }
   ],
   "source": [
    "lockin_3_4.resistance_fpm()"
   ]
  },
  {
   "cell_type": "markdown",
   "metadata": {},
   "source": [
    "We see that lockin_3_4.conductance_tpm() is returning a warning and 'nan'. This is because we have the division by zero case in the calculation of the resistance_fpm as the result of the current value of lockin3_amp is zero. This designe is intentional as we want to warn the user about this occurance and return the output value as numpy nan to not stop the experiment."
   ]
  }
 ],
 "metadata": {
  "kernelspec": {
   "display_name": "Python 3",
   "language": "python",
   "name": "python3"
  },
  "language_info": {
   "codemirror_mode": {
    "name": "ipython",
    "version": 3
   },
   "file_extension": ".py",
   "mimetype": "text/x-python",
   "name": "python",
   "nbconvert_exporter": "python",
   "pygments_lexer": "ipython3",
   "version": "3.7.9"
  }
 },
 "nbformat": 4,
 "nbformat_minor": 4
}
